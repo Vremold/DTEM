{
 "cells": [
  {
   "cell_type": "code",
   "execution_count": 5,
   "metadata": {},
   "outputs": [],
   "source": [
    "# 对仓库进行编码\n",
    "import json\n",
    "\n",
    "file_repo_stat = '../GHCrawler/repo_statistics.txt'\n",
    "file_repo_encoded = '../src/repo_encoded.txt'\n",
    "repo_dict = {}\n",
    "reponum = 0\n",
    "with open(file_repo_stat, 'r', encoding='utf-8') as stat:\n",
    "    linenum = 0\n",
    "    for line in stat:\n",
    "        repo = json.loads(line)\n",
    "        if 'full_name' in repo.keys():\n",
    "            full_name = repo['full_name'].lower()\n",
    "            if full_name not in repo_dict.keys():\n",
    "                repo_dict[full_name] = reponum\n",
    "                reponum += 1\n",
    "with open(file_repo_encoded, 'w', encoding='utf-8') as file:\n",
    "    file.write(json.dumps(repo_dict))"
   ]
  },
  {
   "cell_type": "code",
   "execution_count": 6,
   "metadata": {},
   "outputs": [],
   "source": [
    "# 对用户进行编码\n",
    "# 补充仓库\n",
    "import re\n",
    "import networkx as nx\n",
    "\n",
    "file_repo_cont = '../GHCrawler/repo_contribution.txt'\n",
    "file_user_encoded = '../src/user_encoded.txt'\n",
    "user_dict = {}\n",
    "usernum = 400000 # user编号从400000开始\n",
    "G = nx.Graph()\n",
    "with open(file_repo_cont, 'r', encoding='utf-8') as cont:\n",
    "    with open(file_repo_encoded, 'r') as repos:\n",
    "        repo_dict = json.loads(repos.read())\n",
    "        reponum = len(repo_dict)\n",
    "        for line in cont:\n",
    "            blk = line.find('\\t')\n",
    "            full_name = line[:blk].lower()\n",
    "            line = line[blk + 1:]\n",
    "            contributers = json.loads(line)\n",
    "            if full_name not in repo_dict.keys():\n",
    "                repo_dict[full_name] = reponum\n",
    "                reponum += 1\n",
    "            for contributer in contributers:\n",
    "                if contributer[0] not in user_dict:\n",
    "                    user_dict[contributer[0]] = usernum\n",
    "                    usernum += 1\n",
    "with open(file_repo_encoded, 'w', encoding='utf-8') as file:\n",
    "    file.write(json.dumps(repo_dict))\n",
    "with open(file_user_encoded, 'w', encoding='utf-8') as file:\n",
    "    file.write(json.dumps(user_dict))"
   ]
  }
 ],
 "metadata": {
  "kernelspec": {
   "display_name": "Python 3.7.6 ('base')",
   "language": "python",
   "name": "python3"
  },
  "language_info": {
   "codemirror_mode": {
    "name": "ipython",
    "version": 3
   },
   "file_extension": ".py",
   "mimetype": "text/x-python",
   "name": "python",
   "nbconvert_exporter": "python",
   "pygments_lexer": "ipython3",
   "version": "3.7.6"
  },
  "orig_nbformat": 4,
  "vscode": {
   "interpreter": {
    "hash": "88279d2366fe020547cde40dd65aa0e3aa662a6ec1f3ca12d88834876c85e1a6"
   }
  }
 },
 "nbformat": 4,
 "nbformat_minor": 2
}
