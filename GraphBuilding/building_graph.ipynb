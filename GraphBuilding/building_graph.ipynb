{
 "cells": [
  {
   "cell_type": "code",
   "execution_count": 1,
   "metadata": {},
   "outputs": [],
   "source": [
    "# 建图\n",
    "import re\n",
    "import networkx as nx\n",
    "import json\n",
    "\n",
    "file_repo_encoded = '../src/repo_encoded.txt'\n",
    "file_repo_cont = '../GHCrawler/repo_contribution.txt'\n",
    "file_user_encoded = '../src/user_encoded.txt'\n",
    "file_adjl = '../graph/adjl.adjlist'\n",
    "file_edgel_weighted = '../graph/edgel_w.edgelist'\n",
    "file_edgel = '../graph/edgel.edgelist'\n",
    "G = nx.Graph()\n",
    "with open(file_repo_cont, 'r', encoding='utf-8') as cont:\n",
    "    with open(file_repo_encoded, 'r') as repos:\n",
    "        with open(file_user_encoded, 'r') as users:\n",
    "            repo_dict = json.loads(repos.read())\n",
    "            reponum = len(repo_dict)\n",
    "            user_dict = json.loads(users.read())\n",
    "            for line in cont:\n",
    "                blk = line.find('\\t')\n",
    "                full_name = line[:blk].lower()\n",
    "                line = line[blk + 1:]\n",
    "                contributers = json.loads(line)\n",
    "                conrepo = repo_dict[full_name]\n",
    "                for contributer in contributers:\n",
    "                    conuser = user_dict[contributer[0]]\n",
    "                    G.add_edge(conrepo, conuser, weight=contributer[1])\n",
    "nx.write_adjlist(G, file_adjl)\n",
    "nx.write_edgelist(G, file_edgel, data=False)\n",
    "nx.write_weighted_edgelist(G, file_edgel_weighted)"
   ]
  },
  {
   "cell_type": "code",
   "execution_count": 11,
   "metadata": {},
   "outputs": [],
   "source": [
    "# 调整边的顺序：仓库 - 贡献者\n",
    "def order(filename, weighted=False):\n",
    "    with open(filename, 'r') as readfile:\n",
    "        edges = []\n",
    "        i = 0\n",
    "        for line in readfile:\n",
    "            nodes = line.split()\n",
    "            if int(nodes[0]) > int(nodes[1]):\n",
    "                edges.append([nodes[1], nodes[0]])\n",
    "            else:\n",
    "                edges.append([nodes[0], nodes[1]])\n",
    "            if weighted:\n",
    "                edges[i].append(nodes[2])\n",
    "            i += 1\n",
    "    with open(filename, 'w') as writefile:\n",
    "        for edge in edges:\n",
    "            writefile.write(edge[0] + ' ' + edge[1])\n",
    "            if weighted:\n",
    "                writefile.write(' ' + edge[2])\n",
    "            writefile.write('\\n')\n",
    "order(file_edgel)\n",
    "order(file_edgel_weighted, 1)"
   ]
  }
 ],
 "metadata": {
  "kernelspec": {
   "display_name": "Python 3.7.6 ('base')",
   "language": "python",
   "name": "python3"
  },
  "language_info": {
   "codemirror_mode": {
    "name": "ipython",
    "version": 3
   },
   "file_extension": ".py",
   "mimetype": "text/x-python",
   "name": "python",
   "nbconvert_exporter": "python",
   "pygments_lexer": "ipython3",
   "version": "3.7.6"
  },
  "orig_nbformat": 4,
  "vscode": {
   "interpreter": {
    "hash": "88279d2366fe020547cde40dd65aa0e3aa662a6ec1f3ca12d88834876c85e1a6"
   }
  }
 },
 "nbformat": 4,
 "nbformat_minor": 2
}
